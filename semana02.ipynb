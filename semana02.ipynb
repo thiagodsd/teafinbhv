{
 "cells": [
  {
   "cell_type": "markdown",
   "metadata": {},
   "source": [
    "# Objetivo\n",
    "\n",
    "Agrupar jogadores com base em parâmetros na 15ª rodada do campeonato brasileiro de 2017 a fim de obter clusters de posição."
   ]
  },
  {
   "cell_type": "markdown",
   "metadata": {},
   "source": [
    "# Dados"
   ]
  },
  {
   "cell_type": "markdown",
   "metadata": {},
   "source": [
    "Carregando bibliotecas e funções usadas:"
   ]
  },
  {
   "cell_type": "code",
   "execution_count": 4,
   "metadata": {},
   "outputs": [],
   "source": [
    "import pandas as pd\n",
    "import numpy as np\n",
    "import matplotlib.pyplot as plt\n",
    "from mpl_toolkits.mplot3d import Axes3D\n",
    "%matplotlib inline\n",
    "\n",
    "from sklearn.cluster import KMeans\n",
    "\n",
    "from IPython.display import display"
   ]
  },
  {
   "cell_type": "markdown",
   "metadata": {},
   "source": [
    "Carregando dados:"
   ]
  },
  {
   "cell_type": "code",
   "execution_count": 29,
   "metadata": {},
   "outputs": [],
   "source": [
    "df = pd.read_csv(\"data/2017_scouts.csv\")\n",
    "\n",
    "legenda = pd.read_csv(\"data/pontuacao.csv\")\n",
    "pos     = pd.read_csv(\"data/posicoes.csv\")\n",
    "atl     = pd.read_csv(\"data/2017_atletas.csv\")\n",
    "clb     = pd.read_csv(\"data/2017_clubes.csv\")"
   ]
  },
  {
   "cell_type": "markdown",
   "metadata": {},
   "source": [
    "Selecionando apenas os dados da 15ª rodada, eliminando variáveis indesejadas e investigando o número de clusters pelo _método do cotovelo_:"
   ]
  },
  {
   "cell_type": "code",
   "execution_count": 30,
   "metadata": {},
   "outputs": [],
   "source": [
    "turn15 = df.loc[(df['rodada_id'] == 15)]\n",
    "\n",
    "VARIAVEIS =   ['A',\n",
    "               'CA',\n",
    "               'CV',\n",
    "               'DD',\n",
    "               'DP',\n",
    "               'FC',\n",
    "               'FD',\n",
    "               'FF',\n",
    "               'FS',\n",
    "               'FT',\n",
    "               'G',\n",
    "               'GC',\n",
    "               'GS',\n",
    "               'I',\n",
    "               'PE',\n",
    "               'PP',\n",
    "               'RB',\n",
    "               'SG',\n",
    "               #'atleta_id',\n",
    "               #'clube_id',\n",
    "               'jogos_num',\n",
    "               'media_num',\n",
    "               'pontos_num',\n",
    "               #'posicao_id',\n",
    "               'preco_num',\n",
    "               #'rodada_id',\n",
    "               #'status_id',\n",
    "               'variacao_num']\n",
    "\n",
    "data = turn15[ VARIAVEIS ]"
   ]
  },
  {
   "cell_type": "markdown",
   "metadata": {},
   "source": [
    "# K-Means"
   ]
  },
  {
   "cell_type": "code",
   "execution_count": 7,
   "metadata": {},
   "outputs": [
    {
     "data": {
      "image/png": "[encoded data removed]",
      "text/plain": [
       "<Figure size 432x288 with 1 Axes>"
      ]
     },
     "metadata": {},
     "output_type": "display_data"
    }
   ],
   "source": [
    "kmeans = [ KMeans(n_clusters=i) for i in range(1,20) ]\n",
    "score  = [ kmeans[i].fit(data).score(data) for i in range(len(kmeans)) ]\n",
    "\n",
    "plt.plot( range(1,20), score)\n",
    "plt.xlabel('# of clusters')\n",
    "plt.ylabel('score');"
   ]
  },
  {
   "cell_type": "markdown",
   "metadata": {},
   "source": [
    "Supondo que 3 seja um número razoável: "
   ]
  },
  {
   "cell_type": "code",
   "execution_count": 32,
   "metadata": {},
   "outputs": [
    {
     "name": "stderr",
     "output_type": "stream",
     "text": [
      "/usr/local/lib/python3.5/dist-packages/ipykernel_launcher.py:5: SettingWithCopyWarning: \n",
      "A value is trying to be set on a copy of a slice from a DataFrame.\n",
      "Try using .loc[row_indexer,col_indexer] = value instead\n",
      "\n",
      "See the caveats in the documentation: http://pandas.pydata.org/pandas-docs/stable/indexing.html#indexing-view-versus-copy\n",
      "  \"\"\"\n",
      "/usr/local/lib/python3.5/dist-packages/pandas/core/indexing.py:357: SettingWithCopyWarning: \n",
      "A value is trying to be set on a copy of a slice from a DataFrame.\n",
      "Try using .loc[row_indexer,col_indexer] = value instead\n",
      "\n",
      "See the caveats in the documentation: http://pandas.pydata.org/pandas-docs/stable/indexing.html#indexing-view-versus-copy\n",
      "  self.obj[key] = _infer_fill_value(value)\n",
      "/usr/local/lib/python3.5/dist-packages/pandas/core/indexing.py:537: SettingWithCopyWarning: \n",
      "A value is trying to be set on a copy of a slice from a DataFrame.\n",
      "Try using .loc[row_indexer,col_indexer] = value instead\n",
      "\n",
      "See the caveats in the documentation: http://pandas.pydata.org/pandas-docs/stable/indexing.html#indexing-view-versus-copy\n",
      "  self.obj[item] = s\n"
     ]
    }
   ],
   "source": [
    "km3 = KMeans(n_clusters=3)\n",
    "km3.fit(data)\n",
    "\n",
    "d = pos[['id', 'abreviacao']].set_index('id').to_dict()\n",
    "turn15['cluster'] = km3.predict(data)\n",
    "turn15.loc[:, 'posicao_nome'] = turn15['posicao_id'].apply( lambda x: d['abreviacao'][x] )"
   ]
  },
  {
   "cell_type": "code",
   "execution_count": 33,
   "metadata": {},
   "outputs": [
    {
     "data": {
      "image/png": "[encoded data removed]",
      "text/plain": [
       "<Figure size 432x288 with 1 Axes>"
      ]
     },
     "metadata": {},
     "output_type": "display_data"
    },
    {
     "data": {
      "image/png": "[encoded data removed]",
      "text/plain": [
       "<Figure size 432x288 with 1 Axes>"
      ]
     },
     "metadata": {},
     "output_type": "display_data"
    },
    {
     "data": {
      "image/png": "[encoded data removed]",
      "text/plain": [
       "<Figure size 432x288 with 1 Axes>"
      ]
     },
     "metadata": {},
     "output_type": "display_data"
    },
    {
     "data": {
      "text/plain": [
       "<Figure size 432x288 with 0 Axes>"
      ]
     },
     "metadata": {},
     "output_type": "display_data"
    }
   ],
   "source": [
    "for c in turn15['cluster'].unique():\n",
    "    subpop = turn15[turn15['cluster'] == c]\n",
    "    p = subpop.groupby(['posicao_nome'])['atleta_id'].count()\n",
    "    p.plot(kind='bar', label = 'Cluster #{}'.format(c), rot=45)\n",
    "    plt.legend()\n",
    "    plt.show()\n",
    "    plt.clf()"
   ]
  },
  {
   "cell_type": "markdown",
   "metadata": {},
   "source": [
    "Testando com 4 clusters:"
   ]
  },
  {
   "cell_type": "code",
   "execution_count": 34,
   "metadata": {},
   "outputs": [
    {
     "name": "stderr",
     "output_type": "stream",
     "text": [
      "/usr/local/lib/python3.5/dist-packages/pandas/core/indexing.py:537: SettingWithCopyWarning: \n",
      "A value is trying to be set on a copy of a slice from a DataFrame.\n",
      "Try using .loc[row_indexer,col_indexer] = value instead\n",
      "\n",
      "See the caveats in the documentation: http://pandas.pydata.org/pandas-docs/stable/indexing.html#indexing-view-versus-copy\n",
      "  self.obj[item] = s\n"
     ]
    },
    {
     "data": {
      "image/png": "[encoded data removed]",
      "text/plain": [
       "<Figure size 432x288 with 1 Axes>"
      ]
     },
     "metadata": {},
     "output_type": "display_data"
    },
    {
     "data": {
      "image/png": "[encoded data removed]",
      "text/plain": [
       "<Figure size 432x288 with 1 Axes>"
      ]
     },
     "metadata": {},
     "output_type": "display_data"
    },
    {
     "data": {
      "image/png": "[encoded data removed]",
      "text/plain": [
       "<Figure size 432x288 with 1 Axes>"
      ]
     },
     "metadata": {},
     "output_type": "display_data"
    },
    {
     "data": {
      "image/png": "[encoded data removed]",
      "text/plain": [
       "<Figure size 432x288 with 1 Axes>"
      ]
     },
     "metadata": {},
     "output_type": "display_data"
    },
    {
     "data": {
      "text/plain": [
       "<Figure size 432x288 with 0 Axes>"
      ]
     },
     "metadata": {},
     "output_type": "display_data"
    }
   ],
   "source": [
    "km3 = KMeans(n_clusters=4)\n",
    "km3.fit(data)\n",
    "\n",
    "turn15.loc[:, 'cluster'] = km3.predict(data)\n",
    "\n",
    "for c in turn15['cluster'].unique():\n",
    "    subpop = turn15[turn15['cluster'] == c]\n",
    "    p = subpop.groupby(['posicao_nome'])['atleta_id'].count()\n",
    "    p.plot(kind='bar', label = 'Cluster #{}'.format(c), rot=45)\n",
    "    plt.legend()\n",
    "    plt.show()\n",
    "    plt.clf()"
   ]
  },
  {
   "cell_type": "markdown",
   "metadata": {},
   "source": [
    "Testando com a quantidade correta, 5 clusters:"
   ]
  },
  {
   "cell_type": "code",
   "execution_count": 11,
   "metadata": {},
   "outputs": [
    {
     "name": "stderr",
     "output_type": "stream",
     "text": [
      "/usr/local/lib/python3.5/dist-packages/ipykernel_launcher.py:4: SettingWithCopyWarning: \n",
      "A value is trying to be set on a copy of a slice from a DataFrame.\n",
      "Try using .loc[row_indexer,col_indexer] = value instead\n",
      "\n",
      "See the caveats in the documentation: http://pandas.pydata.org/pandas-docs/stable/indexing.html#indexing-view-versus-copy\n",
      "  after removing the cwd from sys.path.\n"
     ]
    },
    {
     "data": {
      "image/png": "[encoded data removed]",
      "text/plain": [
       "<Figure size 432x288 with 1 Axes>"
      ]
     },
     "metadata": {},
     "output_type": "display_data"
    },
    {
     "data": {
      "image/png": "[encoded data removed]",
      "text/plain": [
       "<Figure size 432x288 with 1 Axes>"
      ]
     },
     "metadata": {},
     "output_type": "display_data"
    },
    {
     "data": {
      "image/png": "[encoded data removed]",
      "text/plain": [
       "<Figure size 432x288 with 1 Axes>"
      ]
     },
     "metadata": {},
     "output_type": "display_data"
    },
    {
     "data": {
      "image/png": "[encoded data removed]",
      "text/plain": [
       "<Figure size 432x288 with 1 Axes>"
      ]
     },
     "metadata": {},
     "output_type": "display_data"
    },
    {
     "data": {
      "image/png": "[encoded data removed]",
      "text/plain": [
       "<Figure size 432x288 with 1 Axes>"
      ]
     },
     "metadata": {},
     "output_type": "display_data"
    },
    {
     "data": {
      "text/plain": [
       "<Figure size 432x288 with 0 Axes>"
      ]
     },
     "metadata": {},
     "output_type": "display_data"
    }
   ],
   "source": [
    "km3 = KMeans(n_clusters=5)\n",
    "km3.fit(data)\n",
    "\n",
    "turn15['cluster'] = km3.predict(data)\n",
    "\n",
    "for c in turn15['cluster'].unique():\n",
    "    subpop = turn15[turn15['cluster'] == c]\n",
    "    p = subpop.groupby(['posicao_nome'])['atleta_id'].count()\n",
    "    p.plot(kind='bar', label = 'Cluster #{}'.format(c), rot=45)\n",
    "    plt.legend()\n",
    "    plt.show()\n",
    "    plt.clf()"
   ]
  },
  {
   "cell_type": "markdown",
   "metadata": {},
   "source": [
    "## Tentativa de Predição"
   ]
  },
  {
   "cell_type": "code",
   "execution_count": 9,
   "metadata": {},
   "outputs": [
    {
     "data": {
      "text/html": [
       "<div>\n",
       "<style scoped>\n",
       "    .dataframe tbody tr th:only-of-type {\n",
       "        vertical-align: middle;\n",
       "    }\n",
       "\n",
       "    .dataframe tbody tr th {\n",
       "        vertical-align: top;\n",
       "    }\n",
       "\n",
       "    .dataframe thead th {\n",
       "        text-align: right;\n",
       "    }\n",
       "</style>\n",
       "<table border=\"1\" class=\"dataframe\">\n",
       "  <thead>\n",
       "    <tr style=\"text-align: right;\">\n",
       "      <th></th>\n",
       "      <th>id</th>\n",
       "      <th>nome</th>\n",
       "      <th>abreviacao</th>\n",
       "    </tr>\n",
       "  </thead>\n",
       "  <tbody>\n",
       "    <tr>\n",
       "      <th>0</th>\n",
       "      <td>1</td>\n",
       "      <td>Goleiro</td>\n",
       "      <td>gol</td>\n",
       "    </tr>\n",
       "    <tr>\n",
       "      <th>1</th>\n",
       "      <td>2</td>\n",
       "      <td>Lateral</td>\n",
       "      <td>lat</td>\n",
       "    </tr>\n",
       "    <tr>\n",
       "      <th>2</th>\n",
       "      <td>3</td>\n",
       "      <td>Zagueiro</td>\n",
       "      <td>zag</td>\n",
       "    </tr>\n",
       "    <tr>\n",
       "      <th>3</th>\n",
       "      <td>4</td>\n",
       "      <td>Meia</td>\n",
       "      <td>mei</td>\n",
       "    </tr>\n",
       "    <tr>\n",
       "      <th>4</th>\n",
       "      <td>5</td>\n",
       "      <td>Atacante</td>\n",
       "      <td>ata</td>\n",
       "    </tr>\n",
       "    <tr>\n",
       "      <th>5</th>\n",
       "      <td>6</td>\n",
       "      <td>Técnico</td>\n",
       "      <td>tec</td>\n",
       "    </tr>\n",
       "  </tbody>\n",
       "</table>\n",
       "</div>"
      ],
      "text/plain": [
       "   id      nome abreviacao\n",
       "0   1   Goleiro        gol\n",
       "1   2   Lateral        lat\n",
       "2   3  Zagueiro        zag\n",
       "3   4      Meia        mei\n",
       "4   5  Atacante        ata\n",
       "5   6   Técnico        tec"
      ]
     },
     "execution_count": 9,
     "metadata": {},
     "output_type": "execute_result"
    }
   ],
   "source": [
    "pos"
   ]
  },
  {
   "cell_type": "code",
   "execution_count": 10,
   "metadata": {},
   "outputs": [
    {
     "data": {
      "text/html": [
       "<div>\n",
       "<style scoped>\n",
       "    .dataframe tbody tr th:only-of-type {\n",
       "        vertical-align: middle;\n",
       "    }\n",
       "\n",
       "    .dataframe tbody tr th {\n",
       "        vertical-align: top;\n",
       "    }\n",
       "\n",
       "    .dataframe thead th {\n",
       "        text-align: right;\n",
       "    }\n",
       "</style>\n",
       "<table border=\"1\" class=\"dataframe\">\n",
       "  <thead>\n",
       "    <tr style=\"text-align: right;\">\n",
       "      <th></th>\n",
       "      <th>atleta_id</th>\n",
       "      <th>rodada_id</th>\n",
       "      <th>clube_id</th>\n",
       "      <th>posicao_id</th>\n",
       "      <th>status_id</th>\n",
       "      <th>pontos_num</th>\n",
       "      <th>preco_num</th>\n",
       "      <th>variacao_num</th>\n",
       "      <th>media_num</th>\n",
       "      <th>jogos_num</th>\n",
       "      <th>...</th>\n",
       "      <th>PP</th>\n",
       "      <th>RB</th>\n",
       "      <th>FC</th>\n",
       "      <th>GC</th>\n",
       "      <th>CA</th>\n",
       "      <th>CV</th>\n",
       "      <th>SG</th>\n",
       "      <th>DD</th>\n",
       "      <th>DP</th>\n",
       "      <th>GS</th>\n",
       "    </tr>\n",
       "  </thead>\n",
       "  <tbody>\n",
       "    <tr>\n",
       "      <th>4057</th>\n",
       "      <td>51175</td>\n",
       "      <td>5</td>\n",
       "      <td>276</td>\n",
       "      <td>1</td>\n",
       "      <td>5</td>\n",
       "      <td>0.0</td>\n",
       "      <td>5.0</td>\n",
       "      <td>0.0</td>\n",
       "      <td>0.0</td>\n",
       "      <td>0</td>\n",
       "      <td>...</td>\n",
       "      <td>0</td>\n",
       "      <td>0</td>\n",
       "      <td>0</td>\n",
       "      <td>0</td>\n",
       "      <td>0</td>\n",
       "      <td>0</td>\n",
       "      <td>0</td>\n",
       "      <td>0</td>\n",
       "      <td>0</td>\n",
       "      <td>0</td>\n",
       "    </tr>\n",
       "  </tbody>\n",
       "</table>\n",
       "<p>1 rows × 28 columns</p>\n",
       "</div>"
      ],
      "text/plain": [
       "      atleta_id  rodada_id  clube_id  posicao_id  status_id  pontos_num  \\\n",
       "4057      51175          5       276           1          5         0.0   \n",
       "\n",
       "      preco_num  variacao_num  media_num  jogos_num ...  PP  RB  FC  GC  CA  \\\n",
       "4057        5.0           0.0        0.0          0 ...   0   0   0   0   0   \n",
       "\n",
       "      CV  SG  DD  DP  GS  \n",
       "4057   0   0   0   0   0  \n",
       "\n",
       "[1 rows x 28 columns]"
      ]
     },
     "metadata": {},
     "output_type": "display_data"
    }
   ],
   "source": [
    "new = df.sample(1)\n",
    "display( new )"
   ]
  },
  {
   "cell_type": "code",
   "execution_count": 11,
   "metadata": {},
   "outputs": [
    {
     "data": {
      "text/plain": [
       "array([1], dtype=int32)"
      ]
     },
     "metadata": {},
     "output_type": "display_data"
    }
   ],
   "source": [
    "display( km3.predict( new[ VARIAVEIS ] ) )"
   ]
  },
  {
   "cell_type": "markdown",
   "metadata": {},
   "source": [
    "Então um atacante foi classificado como pertecente ao cluster 2.\n",
    "\n",
    "Como esperado, o modelo não tem o poder preditivo desejado, mas serve como manequim e protótipo para ideias posteriores."
   ]
  },
  {
   "cell_type": "markdown",
   "metadata": {},
   "source": [
    "# Testando o `sklearn-porter`"
   ]
  },
  {
   "cell_type": "markdown",
   "metadata": {},
   "source": [
    "`sklearn-porter` é uma ferramenta que traduz alguns modelos de machine learning em python para outras linguagens, entre elas JavaScript, o que seria desejável para uma aplicação web.\n",
    "\n",
    "A ideia aqui é testar com uma árvore de decisão **muito** simples, que recebe algumas variáveis e tenta prever se o jogador é atacante sim ou não."
   ]
  },
  {
   "cell_type": "code",
   "execution_count": 52,
   "metadata": {},
   "outputs": [],
   "source": [
    "from sklearn_porter import Porter\n",
    "from sklearn.tree import DecisionTreeClassifier\n",
    "from sklearn.metrics import accuracy_score, confusion_matrix\n",
    "from sklearn.model_selection import train_test_split\n",
    "import seaborn as sns"
   ]
  },
  {
   "cell_type": "code",
   "execution_count": 38,
   "metadata": {},
   "outputs": [
    {
     "name": "stderr",
     "output_type": "stream",
     "text": [
      "/usr/local/lib/python3.5/dist-packages/pandas/core/indexing.py:537: SettingWithCopyWarning: \n",
      "A value is trying to be set on a copy of a slice from a DataFrame.\n",
      "Try using .loc[row_indexer,col_indexer] = value instead\n",
      "\n",
      "See the caveats in the documentation: http://pandas.pydata.org/pandas-docs/stable/indexing.html#indexing-view-versus-copy\n",
      "  self.obj[item] = s\n"
     ]
    }
   ],
   "source": [
    "turn15.loc[:, 'striker'] = 0\n",
    "turn15.loc[turn15['posicao_id']==5, 'striker'] = 1"
   ]
  },
  {
   "cell_type": "code",
   "execution_count": 36,
   "metadata": {},
   "outputs": [],
   "source": [
    "features =    ['A',\n",
    "               'CA',\n",
    "               'CV',\n",
    "               'DD',\n",
    "               'DP',\n",
    "               'FC',\n",
    "               'FD',\n",
    "               'FF',\n",
    "               'FS',\n",
    "               'FT',\n",
    "               'G',\n",
    "               'GC',\n",
    "               'GS',\n",
    "               'I',\n",
    "               'PE',\n",
    "               'PP',\n",
    "               'RB',\n",
    "               'SG',\n",
    "               #'atleta_id',\n",
    "               #'clube_id',\n",
    "               'jogos_num',\n",
    "               'media_num',\n",
    "               'pontos_num',\n",
    "               #'posicao_id',\n",
    "               'preco_num',\n",
    "               #'rodada_id',\n",
    "               #'status_id',\n",
    "               'variacao_num']"
   ]
  },
  {
   "cell_type": "code",
   "execution_count": 37,
   "metadata": {},
   "outputs": [
    {
     "name": "stdout",
     "output_type": "stream",
     "text": [
      "(583, 23) (583,)\n",
      "(251, 23) (251,)\n"
     ]
    }
   ],
   "source": [
    "X_train, X_test, y_train, y_test = train_test_split(turn15[features], turn15.striker, \n",
    "                                                    test_size=0.3, random_state=13)\n",
    "\n",
    "print(X_train.shape, y_train.shape)\n",
    "print(X_test.shape, y_test.shape)"
   ]
  },
  {
   "cell_type": "markdown",
   "metadata": {},
   "source": [
    "## Modelo"
   ]
  },
  {
   "cell_type": "code",
   "execution_count": 69,
   "metadata": {},
   "outputs": [
    {
     "data": {
      "image/png": "[encoded data removed]",
      "text/plain": [
       "<Figure size 720x504 with 1 Axes>"
      ]
     },
     "metadata": {},
     "output_type": "display_data"
    }
   ],
   "source": [
    "arvore = DecisionTreeClassifier(max_depth=5, random_state=13)\n",
    "arvore.fit(X_train, y_train)\n",
    "\n",
    "plt.figure(figsize = (10,7))\n",
    "pd.Series(arvore.feature_importances_, index=X_train.columns).sort_values().plot(kind='barh');"
   ]
  },
  {
   "cell_type": "code",
   "execution_count": 70,
   "metadata": {},
   "outputs": [],
   "source": [
    "pred = arvore.predict(X_test)\n",
    "#pred = arvore.predict_proba(X_test)"
   ]
  },
  {
   "cell_type": "code",
   "execution_count": 71,
   "metadata": {},
   "outputs": [
    {
     "data": {
      "text/plain": [
       "array([[181,   7],\n",
       "       [ 59,   4]])"
      ]
     },
     "execution_count": 71,
     "metadata": {},
     "output_type": "execute_result"
    }
   ],
   "source": [
    "lab = list(set(turn15.striker))\n",
    "conf_matr = confusion_matrix(y_test, pred, labels=lab)\n",
    "conf_matr"
   ]
  },
  {
   "cell_type": "code",
   "execution_count": 72,
   "metadata": {},
   "outputs": [
    {
     "data": {
      "image/png": "[encoded data removed]",
      "text/plain": [
       "<Figure size 360x360 with 2 Axes>"
      ]
     },
     "metadata": {},
     "output_type": "display_data"
    }
   ],
   "source": [
    "df_conf_matr = pd.DataFrame(conf_matr, \n",
    "                            index=[i for i in lab], \n",
    "                            columns=[i for i in lab])\n",
    "\n",
    "plt.figure(figsize = (5,5))\n",
    "fig = sns.heatmap(df_conf_matr, annot=True)\n",
    "plt.xlabel('TEST')\n",
    "plt.ylabel('PRED')\n",
    "plt.show(fig)"
   ]
  },
  {
   "cell_type": "code",
   "execution_count": 73,
   "metadata": {},
   "outputs": [
    {
     "data": {
      "text/plain": [
       "0.7370517928286853"
      ]
     },
     "execution_count": 73,
     "metadata": {},
     "output_type": "execute_result"
    }
   ],
   "source": [
    "accuracy_score(y_test, pred)"
   ]
  },
  {
   "cell_type": "markdown",
   "metadata": {},
   "source": [
    "# Testando o port"
   ]
  },
  {
   "cell_type": "code",
   "execution_count": 74,
   "metadata": {},
   "outputs": [
    {
     "name": "stdout",
     "output_type": "stream",
     "text": [
      "var DecisionTreeClassifier = function() {\n",
      "\n",
      "    var findMax = function(nums) {\n",
      "        var index = 0;\n",
      "        for (var i = 0; i < nums.length; i++) {\n",
      "            index = nums[i] > nums[index] ? i : index;\n",
      "        }\n",
      "        return index;\n",
      "    };\n",
      "\n",
      "    this.predict = function(features) {\n",
      "        var classes = new Array(2);\n",
      "            \n",
      "        if (features[4] <= -2.615000009536743) {\n",
      "            classes[0] = 0; \n",
      "            classes[1] = 3; \n",
      "        } else {\n",
      "            if (features[3] <= 3.834999918937683) {\n",
      "                if (features[3] <= 3.5549999475479126) {\n",
      "                    if (features[0] <= 7.5) {\n",
      "                        if (features[3] <= 2.5749999284744263) {\n",
      "                            classes[0] = 136; \n",
      "                            classes[1] = 51; \n",
      "                        } else {\n",
      "                            classes[0] = 51; \n",
      "                            classes[1] = 6; \n",
      "                        }\n",
      "                    } else {\n",
      "                        if (features[0] <= 8.5) {\n",
      "                            classes[0] = 1; \n",
      "                            classes[1] = 5; \n",
      "                        } else {\n",
      "                            classes[0] = 7; \n",
      "                            classes[1] = 3; \n",
      "                        }\n",
      "                    }\n",
      "                } else {\n",
      "                    if (features[2] <= 0.13999999314546585) {\n",
      "                        classes[0] = 2; \n",
      "                        classes[1] = 0; \n",
      "                    } else {\n",
      "                        if (features[2] <= 1.225000023841858) {\n",
      "                            classes[0] = 0; \n",
      "                            classes[1] = 5; \n",
      "                        } else {\n",
      "                            classes[0] = 4; \n",
      "                            classes[1] = 4; \n",
      "                        }\n",
      "                    }\n",
      "                }\n",
      "            } else {\n",
      "                if (features[1] <= 12.400000095367432) {\n",
      "                    if (features[4] <= -1.3700000047683716) {\n",
      "                        if (features[1] <= -0.75) {\n",
      "                            classes[0] = 0; \n",
      "                            classes[1] = 3; \n",
      "                        } else {\n",
      "                            classes[0] = 4; \n",
      "                            classes[1] = 1; \n",
      "                        }\n",
      "                    } else {\n",
      "                        if (features[2] <= 3.2350000143051147) {\n",
      "                            classes[0] = 142; \n",
      "                            classes[1] = 36; \n",
      "                        } else {\n",
      "                            classes[0] = 104; \n",
      "                            classes[1] = 8; \n",
      "                        }\n",
      "                    }\n",
      "                } else {\n",
      "                    if (features[0] <= 9.5) {\n",
      "                        classes[0] = 2; \n",
      "                        classes[1] = 0; \n",
      "                    } else {\n",
      "                        if (features[2] <= 5.4700000286102295) {\n",
      "                            classes[0] = 1; \n",
      "                            classes[1] = 0; \n",
      "                        } else {\n",
      "                            classes[0] = 0; \n",
      "                            classes[1] = 4; \n",
      "                        }\n",
      "                    }\n",
      "                }\n",
      "            }\n",
      "        }\n",
      "    \n",
      "        return findMax(classes);\n",
      "    };\n",
      "\n",
      "};\n",
      "\n",
      "if (typeof process !== 'undefined' && typeof process.argv !== 'undefined') {\n",
      "    if (process.argv.length - 2 === 23) {\n",
      "\n",
      "        // Features:\n",
      "        var features = process.argv.slice(2);\n",
      "\n",
      "        // Prediction:\n",
      "        var clf = new DecisionTreeClassifier();\n",
      "        var prediction = clf.predict(features);\n",
      "        console.log(prediction);\n",
      "\n",
      "    }\n",
      "}\n"
     ]
    }
   ],
   "source": [
    "porter = Porter(arvore, language='js')\n",
    "output = porter.export(embed_data=True)\n",
    "print(output)"
   ]
  }
 ],
 "metadata": {
  "kernelspec": {
   "display_name": "Python 3",
   "language": "python",
   "name": "python3"
  },
  "language_info": {
   "codemirror_mode": {
    "name": "ipython",
    "version": 3
   },
   "file_extension": ".py",
   "mimetype": "text/x-python",
   "name": "python",
   "nbconvert_exporter": "python",
   "pygments_lexer": "ipython3",
   "version": "3.5.2"
  }
 },
 "nbformat": 4,
 "nbformat_minor": 2
}
