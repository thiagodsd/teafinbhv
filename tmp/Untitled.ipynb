{
 "cells": [
  {
   "cell_type": "markdown",
   "metadata": {},
   "source": [
    "# Semana 01\n",
    "\n",
    "## \"Workgroup\"\n",
    "\n",
    "O [Slack](https://join.slack.com/t/teafinbhv/shared_invite/enQtNTY1NzkwMjE0Mjg4LWZmNTJiZmM2MDYwNjgyOTNmNzVjYzI3MDQzODVjODRmMzZkNDM4OWJjYzU4YmVhNmQ1YTIzYWI4NzExZmYxMTk) parece uma boa ferramenta para **comunicação** ágil, mas para depositório de ideias e códigos não é a ferramenta ideal! No universo Itaú há o GitLab, similar ao GitHub, onde é possível usar a abordagem kanban. Um forte ponto negativo é que o acesso é restrito às redes do banco.\n",
    "\n",
    "Ideia: uma alternativa razoável é usar o Trello para registro de ideias e _progress tracking_, enquanto GitHub é usado para protótipos (modelos de machine learning, estudos, páginas, etc), com a ideia de servir de base para implementações internas no GitLab.\n",
    "\n",
    "![](teafinbhv_0.png)\n",
    "\n",
    "## Solução \"Quanto Pesa Seu Carro\"-like\n",
    "\n",
    "Para definir a forma de atacar o problema é interessante definir algumas perguntas.\n",
    "\n",
    "### Questões Conceituais\n",
    "\n",
    "1. O que a pessoa que responde ganha com a ação?\n",
    "    - Que tipo de informação apenas um banco como o Itaú poderia fornecer a essa pessoa?\n",
    "2. O que o Itaú pode ganhar com a ação?\n",
    "3. Queremos usar a ação para melhorar ou investigar o comportamento financeiro?\n",
    "\n",
    "### Questões Técnicas\n",
    "\n",
    "1. Criação ou reaproveitamento de perfis?\n",
    "2. Como mesclar questões de \"personas\" e questões de \"situação financeira\"?\n",
    "\n",
    "\n",
    "## Solução \"Guia Bolso\"-like\n",
    "\n",
    "Referências externas:\n",
    "\n",
    "- [Sombra - Top 10 FinTech Apps in 2018](https://sombrainc.com/top-10-fintech-apps-in-2018)\n",
    "- [Quora - What are some exciting ideas in Fintech?](https://www.quora.com/What-are-some-exciting-ideas-in-Fintech-I-am-looking-to-build-something-in-the-space-but-am-wondering-where-to-begin-and-what-interesting-ideas-are-out-there-Blockchain-and-decentralized-finance-along-with-crowdfunding-loans-are-compelling)\n",
    "    - Personal Finance\n",
    "        1. [Acorns - Invest, Earn, Grow, Spend, Later | Acorns](https://www.acorns.com/)\n",
    "        2. [Budget Tracker & Planner | Free Online Money Management | Mint](https://www.mint.com/)\n",
    "        3. [NerdWallet: Make all the right money moves](https://www.nerdwallet.com/)\n",
    "\n",
    "- - -\n",
    "\n",
    "+ [YouTube - Clarity Money App Review](https://www.youtube.com/watch?v=cJ7IO78k4xc)\n",
    "    - Feed Design\n",
    "    - Company Logos\n",
    "    - Money Transfering\n",
    "    - Set Automated Savings"
   ]
  }
 ],
 "metadata": {
  "kernelspec": {
   "display_name": "Python 3",
   "language": "python",
   "name": "python3"
  },
  "language_info": {
   "codemirror_mode": {
    "name": "ipython",
    "version": 3
   },
   "file_extension": ".py",
   "mimetype": "text/x-python",
   "name": "python",
   "nbconvert_exporter": "python",
   "pygments_lexer": "ipython3",
   "version": "3.5.2"
  },
  "toc": {
   "base_numbering": 1,
   "nav_menu": {},
   "number_sections": true,
   "sideBar": true,
   "skip_h1_title": false,
   "title_cell": "Table of Contents",
   "title_sidebar": "Contents",
   "toc_cell": false,
   "toc_position": {},
   "toc_section_display": true,
   "toc_window_display": false
  }
 },
 "nbformat": 4,
 "nbformat_minor": 2
}
