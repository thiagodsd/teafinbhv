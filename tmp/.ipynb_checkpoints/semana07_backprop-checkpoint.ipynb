{
 "cells": [
  {
   "cell_type": "markdown",
   "metadata": {},
   "source": [
    "carrega bibliotecas de funções:"
   ]
  },
  {
   "cell_type": "code",
   "execution_count": 29,
   "metadata": {},
   "outputs": [],
   "source": [
    "import pandas as pd\n",
    "import numpy as np\n",
    "import matplotlib.pyplot as plt\n",
    "import pickle as pkl\n",
    "\n",
    "from scipy.special import expit"
   ]
  },
  {
   "cell_type": "markdown",
   "metadata": {},
   "source": [
    "define constantes:"
   ]
  },
  {
   "cell_type": "code",
   "execution_count": 30,
   "metadata": {},
   "outputs": [],
   "source": [
    "max_answer_shape = 5\n",
    "Q                = 14\n",
    "eta              = 0.015\n",
    "WEIGHTS          = pkl.load( open( \"B.p\", \"rb\" ) )\n",
    "ANS              = ['ans_00', 'ans_01', 'ans_02',\n",
    "                    'ans_03', 'ans_04', 'ans_05',\n",
    "                    'ans_06', 'ans_07', 'ans_08',\n",
    "                    'ans_09', 'ans_10', 'ans_11',\n",
    "                    'ans_12']"
   ]
  },
  {
   "cell_type": "markdown",
   "metadata": {},
   "source": [
    "carrega arquivo com testes:"
   ]
  },
  {
   "cell_type": "code",
   "execution_count": 31,
   "metadata": {},
   "outputs": [],
   "source": [
    "df = pd.read_csv('data/weights_calibration.csv')"
   ]
  },
  {
   "cell_type": "markdown",
   "metadata": {},
   "source": [
    "define quantidade de respostas (colunas `answers_N`) do arquivo `data/weights_calibration.csv`:"
   ]
  },
  {
   "cell_type": "code",
   "execution_count": 32,
   "metadata": {},
   "outputs": [],
   "source": [
    "PROFILES         = 4"
   ]
  },
  {
   "cell_type": "markdown",
   "metadata": {},
   "source": [
    "converte para uma estrutura mais conveniente:"
   ]
  },
  {
   "cell_type": "code",
   "execution_count": 33,
   "metadata": {},
   "outputs": [],
   "source": [
    "DATA = dict()\n",
    "\n",
    "for i in range(PROFILES):\n",
    "    COL = 'answers_{}'.format(str(i))\n",
    "    \n",
    "    d         = dict()\n",
    "    DATA[COL] = dict()\n",
    "    QUESTION = str()\n",
    "    INDEX    = int()\n",
    "    ANS_ID   = 0\n",
    "    \n",
    "    for i,r in df.iterrows():\n",
    "        if str(r['question']) != 'nan':\n",
    "            INDEX    = str(i).zfill(3)\n",
    "            ANS_ID   = 0\n",
    "            \n",
    "            if str(r['question']) != 'TARGET':            \n",
    "                d[INDEX] = dict()\n",
    "                d[INDEX]['question']   = r['question']\n",
    "                d[INDEX]['answers']    = np.zeros(max_answer_shape)\n",
    "                if str(r[COL]) != 'nan':\n",
    "                    d[INDEX]['answers'][ANS_ID] = 1\n",
    "\n",
    "                ANS_ID += 1\n",
    "            else:\n",
    "                d['TARGET'] = np.zeros(max_answer_shape)\n",
    "                d['TARGET'][int(r[COL])] = 1\n",
    "        else:\n",
    "            if str(r[COL]) != 'nan':\n",
    "                d[INDEX]['answers'][ANS_ID] = 1\n",
    "            \n",
    "            ANS_ID += 1\n",
    "\n",
    "    for i,k in enumerate(sorted(d)):\n",
    "        if k != \"TARGET\":\n",
    "            DATA[COL]['ans_{}'.format(str(i).zfill(2))] = d[k]['answers']\n",
    "        else:\n",
    "            DATA[COL]['TARGET'] = d[k]"
   ]
  },
  {
   "cell_type": "code",
   "execution_count": 34,
   "metadata": {},
   "outputs": [],
   "source": [
    "data = pd.DataFrame.from_dict(DATA, orient='index')\n",
    "df   = data[ ANS + ['TARGET']]"
   ]
  },
  {
   "cell_type": "markdown",
   "metadata": {},
   "source": [
    "código de correção:"
   ]
  },
  {
   "cell_type": "code",
   "execution_count": 35,
   "metadata": {},
   "outputs": [],
   "source": [
    "def back(_df):\n",
    "    \n",
    "    A = _df[ ANS ].T.values\n",
    "    y = _df[ 'TARGET' ]\n",
    "    \n",
    "    A = np.stack(A, axis=0)\n",
    "    B = np.copy(WEIGHTS)\n",
    "    C = np.zeros( (len(A),5) )\n",
    "    \n",
    "    for i in range(len(A)):\n",
    "        C[i] = np.sum(B[i]*A[i].T[:, np.newaxis], axis=0)\n",
    "    \n",
    "    D = np.sum(C, axis=0)\n",
    "    \n",
    "    W = np.copy(WEIGHTS)\n",
    "    \n",
    "    for ITERATION in range(250):\n",
    "        B = np.copy(W)\n",
    "        for i in range(len(A)):\n",
    "            C[i] = np.sum(B[i]*A[i].T[:, np.newaxis], axis=0)\n",
    "        D = np.sum(C, axis=0)\n",
    "        \n",
    "        dW = 0*np.copy(WEIGHTS)\n",
    "        \n",
    "        for I in range(len(dW)):\n",
    "            for J in range(len(dW[0])):\n",
    "                for K in range(len(dW[0][0])):\n",
    "                    OMEGA = (D[K] - y[K] )\n",
    "                    dL    = 2 * OMEGA * A[I][J]\n",
    "\n",
    "                    dW[I][J][K] = dL\n",
    "        W = np.copy(W -eta*dW)\n",
    "    \n",
    "    return W"
   ]
  },
  {
   "cell_type": "markdown",
   "metadata": {},
   "source": [
    "gera pesos calibrados:"
   ]
  },
  {
   "cell_type": "code",
   "execution_count": 36,
   "metadata": {},
   "outputs": [],
   "source": [
    "avg_W = [ back(df.iloc[i]) for i in range(df.shape[0]) ]\n",
    "avg_W = avg_W + WEIGHTS\n",
    "Wstar = sum(avg_W)/len(avg_W)"
   ]
  },
  {
   "cell_type": "markdown",
   "metadata": {},
   "source": [
    "salva:"
   ]
  },
  {
   "cell_type": "code",
   "execution_count": 37,
   "metadata": {},
   "outputs": [],
   "source": [
    "M = list()\n",
    "for i in Wstar:\n",
    "    for j in i:\n",
    "        M.append(j)\n",
    "pd.DataFrame(M).to_excel(\"data/weights_calibrated.xlsx\")"
   ]
  }
 ],
 "metadata": {
  "kernelspec": {
   "display_name": "Python 3",
   "language": "python",
   "name": "python3"
  },
  "language_info": {
   "codemirror_mode": {
    "name": "ipython",
    "version": 3
   },
   "file_extension": ".py",
   "mimetype": "text/x-python",
   "name": "python",
   "nbconvert_exporter": "python",
   "pygments_lexer": "ipython3",
   "version": "3.5.2"
  }
 },
 "nbformat": 4,
 "nbformat_minor": 2
}
